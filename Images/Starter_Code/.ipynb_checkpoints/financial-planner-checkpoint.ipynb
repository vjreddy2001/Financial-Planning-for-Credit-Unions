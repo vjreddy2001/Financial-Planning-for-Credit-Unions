{
 "cells": [
  {
   "cell_type": "markdown",
   "metadata": {},
   "source": [
    "# Unit 5 - Financial Planning"
   ]
  },
  {
   "cell_type": "code",
   "execution_count": 1,
   "metadata": {},
   "outputs": [],
   "source": [
    "# Initial imports\n",
    "import os\n",
    "import requests\n",
    "import pandas as pd\n",
    "from dotenv import load_dotenv\n",
    "import alpaca_trade_api as tradeapi\n",
    "from MCForecastTools import MCSimulation\n",
    "\n",
    "%matplotlib inline"
   ]
  },
  {
   "cell_type": "code",
   "execution_count": 2,
   "metadata": {},
   "outputs": [
    {
     "data": {
      "text/plain": [
       "True"
      ]
     },
     "execution_count": 2,
     "metadata": {},
     "output_type": "execute_result"
    }
   ],
   "source": [
    "# Load .env enviroment variables\n",
    "load_dotenv()"
   ]
  },
  {
   "cell_type": "code",
   "execution_count": 3,
   "metadata": {},
   "outputs": [],
   "source": [
    "# Set Alpaca API key and secret\n",
    "alpaca_api_key = os.getenv(\"ALPACA_API_KEY\")\n",
    "alpaca_secret_key = os.getenv(\"ALPACA_SECRET_KEY\")"
   ]
  },
  {
   "cell_type": "code",
   "execution_count": 4,
   "metadata": {},
   "outputs": [
    {
     "data": {
      "text/plain": [
       "str"
      ]
     },
     "execution_count": 4,
     "metadata": {},
     "output_type": "execute_result"
    }
   ],
   "source": [
    "# Verify that Alpaca key and secret were correctly loaded\n",
    "type(alpaca_api_key)\n"
   ]
  },
  {
   "cell_type": "code",
   "execution_count": 5,
   "metadata": {},
   "outputs": [
    {
     "data": {
      "text/plain": [
       "str"
      ]
     },
     "execution_count": 5,
     "metadata": {},
     "output_type": "execute_result"
    }
   ],
   "source": [
    "type(alpaca_secret_key)"
   ]
  },
  {
   "cell_type": "markdown",
   "metadata": {},
   "source": [
    "## Part 1 - Personal Finance Planner"
   ]
  },
  {
   "cell_type": "markdown",
   "metadata": {},
   "source": [
    "### Collect Crypto Prices Using the `requests` Library"
   ]
  },
  {
   "cell_type": "code",
   "execution_count": 6,
   "metadata": {},
   "outputs": [],
   "source": [
    "# Set current amount of crypto assets\n",
    "crypto = (\"BTC\", \"ETH\")\n",
    "my_btc = 1.2\n",
    "my_eth = 5.3\n",
    "crypto_amount = (my_btc, my_eth)"
   ]
  },
  {
   "cell_type": "code",
   "execution_count": 7,
   "metadata": {},
   "outputs": [],
   "source": [
    "# Crypto API URLs\n",
    "btc_url = \"https://api.alternative.me/v2/ticker/Bitcoin/?convert=CAD\"\n",
    "eth_url = \"https://api.alternative.me/v2/ticker/Ethereum/?convert=CAD\""
   ]
  },
  {
   "cell_type": "code",
   "execution_count": 8,
   "metadata": {},
   "outputs": [],
   "source": [
    "# Execute get request\n",
    "request_btc_data = requests.get(btc_url).json()"
   ]
  },
  {
   "cell_type": "code",
   "execution_count": 9,
   "metadata": {},
   "outputs": [
    {
     "data": {
      "text/plain": [
       "{'data': {'1': {'id': 1,\n",
       "   'name': 'Bitcoin',\n",
       "   'symbol': 'BTC',\n",
       "   'website_slug': 'bitcoin',\n",
       "   'rank': 1,\n",
       "   'circulating_supply': 18729181,\n",
       "   'total_supply': 18729181,\n",
       "   'max_supply': 21000000,\n",
       "   'quotes': {'USD': {'price': 36042.0,\n",
       "     'volume_24h': 29776416983,\n",
       "     'market_cap': 676696161221,\n",
       "     'percentage_change_1h': -0.416780507589979,\n",
       "     'percentage_change_24h': -0.652100810800606,\n",
       "     'percentage_change_7d': 0.914986418378296,\n",
       "     'percent_change_1h': -0.416780507589979,\n",
       "     'percent_change_24h': -0.652100810800606,\n",
       "     'percent_change_7d': 0.914986418378296},\n",
       "    'CAD': {'price': 43553.1528,\n",
       "     'volume_24h': 35981822282.2572,\n",
       "     'market_cap': 817719641219.456,\n",
       "     'percent_change_1h': -0.416780507589979,\n",
       "     'percent_change_24h': -0.652100810800606,\n",
       "     'percent_change_7d': 0.914986418378296}},\n",
       "   'last_updated': 1623078784}},\n",
       " 'metadata': {'timestamp': 1623078784,\n",
       "  'num_cryptocurrencies': 1292,\n",
       "  'error': None}}"
      ]
     },
     "execution_count": 9,
     "metadata": {},
     "output_type": "execute_result"
    }
   ],
   "source": [
    "# Output data\n",
    "request_btc_data"
   ]
  },
  {
   "cell_type": "code",
   "execution_count": 10,
   "metadata": {},
   "outputs": [
    {
     "name": "stdout",
     "output_type": "stream",
     "text": [
      "43553.1528\n"
     ]
    }
   ],
   "source": [
    "btc_price = request_btc_data[\"data\"]['1']['quotes']['CAD']['price']\n",
    "print(btc_price)"
   ]
  },
  {
   "cell_type": "code",
   "execution_count": 11,
   "metadata": {},
   "outputs": [
    {
     "data": {
      "text/plain": [
       "{'data': {'1027': {'id': 1027,\n",
       "   'name': 'Ethereum',\n",
       "   'symbol': 'ETH',\n",
       "   'website_slug': 'ethereum',\n",
       "   'rank': 2,\n",
       "   'circulating_supply': 116194723,\n",
       "   'total_supply': 116194723,\n",
       "   'max_supply': 0,\n",
       "   'quotes': {'USD': {'price': 2776.99,\n",
       "     'volume_24h': 31505682738,\n",
       "     'market_cap': 323786968866,\n",
       "     'percentage_change_1h': -0.406701967427682,\n",
       "     'percentage_change_24h': 1.9419989481969,\n",
       "     'percentage_change_7d': 15.9082486641936,\n",
       "     'percent_change_1h': -0.406701967427682,\n",
       "     'percent_change_24h': 1.9419989481969,\n",
       "     'percent_change_7d': 15.9082486641936},\n",
       "    'CAD': {'price': 3355.714716,\n",
       "     'volume_24h': 38071467020.5992,\n",
       "     'market_cap': 391264173177.674,\n",
       "     'percent_change_1h': -0.406701967427682,\n",
       "     'percent_change_24h': 1.9419989481969,\n",
       "     'percent_change_7d': 15.9082486641936}},\n",
       "   'last_updated': 1623078780}},\n",
       " 'metadata': {'timestamp': 1623078780,\n",
       "  'num_cryptocurrencies': 1292,\n",
       "  'error': None}}"
      ]
     },
     "execution_count": 11,
     "metadata": {},
     "output_type": "execute_result"
    }
   ],
   "source": [
    "# Fetch current ETH price\n",
    "# Execute get request\n",
    "request_eth_data = requests.get(eth_url).json()\n",
    "\n",
    "# Output data\n",
    "request_eth_data"
   ]
  },
  {
   "cell_type": "code",
   "execution_count": 12,
   "metadata": {},
   "outputs": [
    {
     "name": "stdout",
     "output_type": "stream",
     "text": [
      "3355.714716\n"
     ]
    }
   ],
   "source": [
    "eth_price = request_eth_data[\"data\"]['1027']['quotes']['CAD']['price']\n",
    "print(eth_price)"
   ]
  },
  {
   "cell_type": "code",
   "execution_count": 13,
   "metadata": {},
   "outputs": [
    {
     "name": "stdout",
     "output_type": "stream",
     "text": [
      " BTC value is 52263.78336\n",
      " ETH value is 17785.2879948\n"
     ]
    }
   ],
   "source": [
    "# Compute current value of my crpto\n",
    "my_btc_value = my_btc * btc_price\n",
    "my_eth_value = my_eth * eth_price\n",
    "print(f\" BTC value is {my_btc_value}\")\n",
    "print(f\" ETH value is {my_eth_value}\")"
   ]
  },
  {
   "cell_type": "code",
   "execution_count": 14,
   "metadata": {},
   "outputs": [
    {
     "name": "stdout",
     "output_type": "stream",
     "text": [
      "The current value of your 1.2 BTC is $52263.78\n",
      "The current value of your 5.3 ETH is $17785.29\n"
     ]
    },
    {
     "data": {
      "text/plain": [
       "(52263.78336, 17785.2879948)"
      ]
     },
     "execution_count": 14,
     "metadata": {},
     "output_type": "execute_result"
    }
   ],
   "source": [
    "\n",
    "# Print current crypto wallet balance\n",
    "print(f\"The current value of your {my_btc} BTC is ${my_btc_value:0.2f}\")\n",
    "print(f\"The current value of your {my_eth} ETH is ${my_eth_value:0.2f}\")\n",
    "crypto_value = (my_btc_value, my_eth_value)\n",
    "crypto_value"
   ]
  },
  {
   "cell_type": "code",
   "execution_count": 15,
   "metadata": {},
   "outputs": [
    {
     "name": "stdout",
     "output_type": "stream",
     "text": [
      "  Crypto  Amount         Value\n",
      "0    BTC     1.2  52263.783360\n",
      "1    ETH     5.3  17785.287995\n"
     ]
    },
    {
     "data": {
      "text/plain": [
       "70049.0713548"
      ]
     },
     "execution_count": 15,
     "metadata": {},
     "output_type": "execute_result"
    }
   ],
   "source": [
    "#creating crypto dataframe\n",
    "crypto_portfolio = []\n",
    "data_crypto = {'Crypto':crypto, 'Amount' : crypto_amount, 'Value' : crypto_value}\n",
    "crypto_portfolio = pd.DataFrame(data=data_crypto)\n",
    "print(crypto_portfolio)\n",
    "crypto_value = crypto_portfolio['Value'].sum()\n",
    "crypto_value"
   ]
  },
  {
   "cell_type": "markdown",
   "metadata": {},
   "source": [
    "### Collect Investments Data Using Alpaca: `SPY` (stocks) and `AGG` (bonds)"
   ]
  },
  {
   "cell_type": "code",
   "execution_count": 16,
   "metadata": {},
   "outputs": [
    {
     "data": {
      "text/plain": [
       "(200, 50)"
      ]
     },
     "execution_count": 16,
     "metadata": {},
     "output_type": "execute_result"
    }
   ],
   "source": [
    "# Set current amount of shares\n",
    "\n",
    "my_agg = 200\n",
    "my_spy = 50\n",
    "shares=(my_agg, my_spy)\n",
    "shares"
   ]
  },
  {
   "cell_type": "code",
   "execution_count": 17,
   "metadata": {},
   "outputs": [],
   "source": [
    "# Set Alpaca API key and secret\n",
    "alpaca_api_key = os.getenv(\"ALPACA_API_KEY\")\n",
    "alpaca_secret_key = os.getenv(\"ALPACA_SECRET_KEY\")\n",
    "\n",
    "# Create the Alpaca API object\n",
    "\n",
    "alpaca = tradeapi.REST(\n",
    "    alpaca_api_key,\n",
    "    alpaca_secret_key,\n",
    "    api_version = \"v2\"\n",
    ")"
   ]
  },
  {
   "cell_type": "code",
   "execution_count": 18,
   "metadata": {},
   "outputs": [],
   "source": [
    "# Format current date as ISO format\n",
    "start_date = pd.Timestamp(\"2019-06-04\", tz=\"America/New_york\").isoformat()\n",
    "end_date = pd.Timestamp(\"2020-06-04\", tz=\"America/New_york\").isoformat()"
   ]
  },
  {
   "cell_type": "code",
   "execution_count": 19,
   "metadata": {},
   "outputs": [],
   "source": [
    "# Set the tickers\n",
    "tickers = [\"AGG\", \"SPY\"]\n"
   ]
  },
  {
   "cell_type": "code",
   "execution_count": 20,
   "metadata": {},
   "outputs": [],
   "source": [
    "# Set timeframe to '1D' for Alpaca API\n",
    "timeframe = \"1D\""
   ]
  },
  {
   "cell_type": "code",
   "execution_count": 21,
   "metadata": {},
   "outputs": [],
   "source": [
    "# Get current closing prices for SPY and AGG\n",
    "# (use a limit=1000 parameter to call the most recent 1000 days of data)\n",
    "df_portfolio = alpaca.get_barset(\n",
    "    tickers,\n",
    "    timeframe,\n",
    "    start = start_date,\n",
    "    end = end_date,\n",
    "    limit = 1000\n",
    "    ).df\n"
   ]
  },
  {
   "cell_type": "code",
   "execution_count": 22,
   "metadata": {},
   "outputs": [
    {
     "data": {
      "text/html": [
       "<div>\n",
       "<style scoped>\n",
       "    .dataframe tbody tr th:only-of-type {\n",
       "        vertical-align: middle;\n",
       "    }\n",
       "\n",
       "    .dataframe tbody tr th {\n",
       "        vertical-align: top;\n",
       "    }\n",
       "\n",
       "    .dataframe thead tr th {\n",
       "        text-align: left;\n",
       "    }\n",
       "\n",
       "    .dataframe thead tr:last-of-type th {\n",
       "        text-align: right;\n",
       "    }\n",
       "</style>\n",
       "<table border=\"1\" class=\"dataframe\">\n",
       "  <thead>\n",
       "    <tr>\n",
       "      <th></th>\n",
       "      <th colspan=\"5\" halign=\"left\">AGG</th>\n",
       "      <th colspan=\"5\" halign=\"left\">SPY</th>\n",
       "    </tr>\n",
       "    <tr>\n",
       "      <th></th>\n",
       "      <th>open</th>\n",
       "      <th>high</th>\n",
       "      <th>low</th>\n",
       "      <th>close</th>\n",
       "      <th>volume</th>\n",
       "      <th>open</th>\n",
       "      <th>high</th>\n",
       "      <th>low</th>\n",
       "      <th>close</th>\n",
       "      <th>volume</th>\n",
       "    </tr>\n",
       "    <tr>\n",
       "      <th>time</th>\n",
       "      <th></th>\n",
       "      <th></th>\n",
       "      <th></th>\n",
       "      <th></th>\n",
       "      <th></th>\n",
       "      <th></th>\n",
       "      <th></th>\n",
       "      <th></th>\n",
       "      <th></th>\n",
       "      <th></th>\n",
       "    </tr>\n",
       "  </thead>\n",
       "  <tbody>\n",
       "    <tr>\n",
       "      <th>2019-06-04 00:00:00-04:00</th>\n",
       "      <td>110.28</td>\n",
       "      <td>110.3800</td>\n",
       "      <td>108.85</td>\n",
       "      <td>110.300</td>\n",
       "      <td>4704680</td>\n",
       "      <td>277.12</td>\n",
       "      <td>280.680</td>\n",
       "      <td>276.6200</td>\n",
       "      <td>280.5200</td>\n",
       "      <td>64337734</td>\n",
       "    </tr>\n",
       "    <tr>\n",
       "      <th>2019-06-05 00:00:00-04:00</th>\n",
       "      <td>110.36</td>\n",
       "      <td>110.4700</td>\n",
       "      <td>108.85</td>\n",
       "      <td>110.230</td>\n",
       "      <td>2727411</td>\n",
       "      <td>282.33</td>\n",
       "      <td>282.990</td>\n",
       "      <td>280.3200</td>\n",
       "      <td>282.9000</td>\n",
       "      <td>58965379</td>\n",
       "    </tr>\n",
       "    <tr>\n",
       "      <th>2019-06-06 00:00:00-04:00</th>\n",
       "      <td>110.34</td>\n",
       "      <td>110.4200</td>\n",
       "      <td>110.16</td>\n",
       "      <td>110.230</td>\n",
       "      <td>2114944</td>\n",
       "      <td>283.29</td>\n",
       "      <td>285.550</td>\n",
       "      <td>282.5700</td>\n",
       "      <td>284.7400</td>\n",
       "      <td>53512841</td>\n",
       "    </tr>\n",
       "    <tr>\n",
       "      <th>2019-06-07 00:00:00-04:00</th>\n",
       "      <td>110.64</td>\n",
       "      <td>110.6700</td>\n",
       "      <td>110.45</td>\n",
       "      <td>110.530</td>\n",
       "      <td>3436048</td>\n",
       "      <td>285.93</td>\n",
       "      <td>288.850</td>\n",
       "      <td>285.7400</td>\n",
       "      <td>287.6300</td>\n",
       "      <td>60266286</td>\n",
       "    </tr>\n",
       "    <tr>\n",
       "      <th>2019-06-10 00:00:00-04:00</th>\n",
       "      <td>110.36</td>\n",
       "      <td>110.3600</td>\n",
       "      <td>110.22</td>\n",
       "      <td>110.240</td>\n",
       "      <td>2706969</td>\n",
       "      <td>289.37</td>\n",
       "      <td>290.820</td>\n",
       "      <td>288.8734</td>\n",
       "      <td>288.9305</td>\n",
       "      <td>51975211</td>\n",
       "    </tr>\n",
       "    <tr>\n",
       "      <th>...</th>\n",
       "      <td>...</td>\n",
       "      <td>...</td>\n",
       "      <td>...</td>\n",
       "      <td>...</td>\n",
       "      <td>...</td>\n",
       "      <td>...</td>\n",
       "      <td>...</td>\n",
       "      <td>...</td>\n",
       "      <td>...</td>\n",
       "      <td>...</td>\n",
       "    </tr>\n",
       "    <tr>\n",
       "      <th>2020-05-29 00:00:00-04:00</th>\n",
       "      <td>117.43</td>\n",
       "      <td>117.7100</td>\n",
       "      <td>117.32</td>\n",
       "      <td>117.670</td>\n",
       "      <td>16292692</td>\n",
       "      <td>302.46</td>\n",
       "      <td>304.960</td>\n",
       "      <td>299.4700</td>\n",
       "      <td>304.1600</td>\n",
       "      <td>101356845</td>\n",
       "    </tr>\n",
       "    <tr>\n",
       "      <th>2020-06-01 00:00:00-04:00</th>\n",
       "      <td>117.35</td>\n",
       "      <td>117.3999</td>\n",
       "      <td>117.24</td>\n",
       "      <td>117.365</td>\n",
       "      <td>10635820</td>\n",
       "      <td>303.62</td>\n",
       "      <td>306.205</td>\n",
       "      <td>303.0600</td>\n",
       "      <td>305.5800</td>\n",
       "      <td>46186733</td>\n",
       "    </tr>\n",
       "    <tr>\n",
       "      <th>2020-06-02 00:00:00-04:00</th>\n",
       "      <td>117.38</td>\n",
       "      <td>117.4700</td>\n",
       "      <td>117.31</td>\n",
       "      <td>117.450</td>\n",
       "      <td>7837090</td>\n",
       "      <td>306.55</td>\n",
       "      <td>308.130</td>\n",
       "      <td>305.1000</td>\n",
       "      <td>308.1300</td>\n",
       "      <td>66042497</td>\n",
       "    </tr>\n",
       "    <tr>\n",
       "      <th>2020-06-03 00:00:00-04:00</th>\n",
       "      <td>117.26</td>\n",
       "      <td>117.4100</td>\n",
       "      <td>117.06</td>\n",
       "      <td>117.160</td>\n",
       "      <td>11554888</td>\n",
       "      <td>310.24</td>\n",
       "      <td>313.220</td>\n",
       "      <td>309.9400</td>\n",
       "      <td>312.2117</td>\n",
       "      <td>79223813</td>\n",
       "    </tr>\n",
       "    <tr>\n",
       "      <th>2020-06-04 00:00:00-04:00</th>\n",
       "      <td>117.27</td>\n",
       "      <td>117.3000</td>\n",
       "      <td>116.82</td>\n",
       "      <td>116.860</td>\n",
       "      <td>9562346</td>\n",
       "      <td>311.11</td>\n",
       "      <td>313.000</td>\n",
       "      <td>309.0800</td>\n",
       "      <td>311.3100</td>\n",
       "      <td>68304792</td>\n",
       "    </tr>\n",
       "  </tbody>\n",
       "</table>\n",
       "<p>254 rows × 10 columns</p>\n",
       "</div>"
      ],
      "text/plain": [
       "                              AGG                                       \\\n",
       "                             open      high     low    close    volume   \n",
       "time                                                                     \n",
       "2019-06-04 00:00:00-04:00  110.28  110.3800  108.85  110.300   4704680   \n",
       "2019-06-05 00:00:00-04:00  110.36  110.4700  108.85  110.230   2727411   \n",
       "2019-06-06 00:00:00-04:00  110.34  110.4200  110.16  110.230   2114944   \n",
       "2019-06-07 00:00:00-04:00  110.64  110.6700  110.45  110.530   3436048   \n",
       "2019-06-10 00:00:00-04:00  110.36  110.3600  110.22  110.240   2706969   \n",
       "...                           ...       ...     ...      ...       ...   \n",
       "2020-05-29 00:00:00-04:00  117.43  117.7100  117.32  117.670  16292692   \n",
       "2020-06-01 00:00:00-04:00  117.35  117.3999  117.24  117.365  10635820   \n",
       "2020-06-02 00:00:00-04:00  117.38  117.4700  117.31  117.450   7837090   \n",
       "2020-06-03 00:00:00-04:00  117.26  117.4100  117.06  117.160  11554888   \n",
       "2020-06-04 00:00:00-04:00  117.27  117.3000  116.82  116.860   9562346   \n",
       "\n",
       "                              SPY                                          \n",
       "                             open     high       low     close     volume  \n",
       "time                                                                       \n",
       "2019-06-04 00:00:00-04:00  277.12  280.680  276.6200  280.5200   64337734  \n",
       "2019-06-05 00:00:00-04:00  282.33  282.990  280.3200  282.9000   58965379  \n",
       "2019-06-06 00:00:00-04:00  283.29  285.550  282.5700  284.7400   53512841  \n",
       "2019-06-07 00:00:00-04:00  285.93  288.850  285.7400  287.6300   60266286  \n",
       "2019-06-10 00:00:00-04:00  289.37  290.820  288.8734  288.9305   51975211  \n",
       "...                           ...      ...       ...       ...        ...  \n",
       "2020-05-29 00:00:00-04:00  302.46  304.960  299.4700  304.1600  101356845  \n",
       "2020-06-01 00:00:00-04:00  303.62  306.205  303.0600  305.5800   46186733  \n",
       "2020-06-02 00:00:00-04:00  306.55  308.130  305.1000  308.1300   66042497  \n",
       "2020-06-03 00:00:00-04:00  310.24  313.220  309.9400  312.2117   79223813  \n",
       "2020-06-04 00:00:00-04:00  311.11  313.000  309.0800  311.3100   68304792  \n",
       "\n",
       "[254 rows x 10 columns]"
      ]
     },
     "execution_count": 22,
     "metadata": {},
     "output_type": "execute_result"
    }
   ],
   "source": [
    "# Preview DataFrame\n",
    "df_portfolio\n"
   ]
  },
  {
   "cell_type": "code",
   "execution_count": 23,
   "metadata": {},
   "outputs": [
    {
     "name": "stdout",
     "output_type": "stream",
     "text": [
      " The last row is \n",
      "AGG  open           117.27\n",
      "     high           117.30\n",
      "     low            116.82\n",
      "     close          116.86\n",
      "     volume     9562346.00\n",
      "SPY  open           311.11\n",
      "     high           313.00\n",
      "     low            309.08\n",
      "     close          311.31\n",
      "     volume    68304792.00\n",
      "Name: 2020-06-04 00:00:00-04:00, dtype: float64\n",
      "\n"
     ]
    }
   ],
   "source": [
    "# Pick AGG and SPY close prices\n",
    "\n",
    "# picking the last row in the dataframe\n",
    "df_last = df_portfolio.iloc[-1]\n",
    "print(f\" The last row is \\n{df_last}\\n\")\n",
    "\n",
    "# picking the 3rd column and 8th column value for AGG and SPY closing price\n",
    "agg_close_price = df_last.iloc[3]\n",
    "spy_close_price = df_last.iloc[8]\n"
   ]
  },
  {
   "cell_type": "code",
   "execution_count": 24,
   "metadata": {},
   "outputs": [
    {
     "name": "stdout",
     "output_type": "stream",
     "text": [
      "Current AGG closing price: $116.86\n",
      "Current SPY closing price: $311.31\n"
     ]
    }
   ],
   "source": [
    "# Print AGG and SPY close prices\n",
    "print(f\"Current AGG closing price: ${agg_close_price}\")\n",
    "print(f\"Current SPY closing price: ${spy_close_price}\")"
   ]
  },
  {
   "cell_type": "code",
   "execution_count": 25,
   "metadata": {},
   "outputs": [
    {
     "name": "stdout",
     "output_type": "stream",
     "text": [
      "The current value of your 50 SPY shares is $15565.50\n",
      "The current value of your 200 AGG shares is $23372.00\n"
     ]
    }
   ],
   "source": [
    "# Compute the current value of shares\n",
    "my_spy_value = spy_close_price * my_spy\n",
    "my_agg_value = agg_close_price * my_agg\n",
    "\n",
    "my_value = (my_agg_value, my_spy_value)\n",
    "# Print current value of shares\n",
    "print(f\"The current value of your {my_spy} SPY shares is ${my_spy_value:0.2f}\")\n",
    "print(f\"The current value of your {my_agg} AGG shares is ${my_agg_value:0.2f}\")"
   ]
  },
  {
   "cell_type": "code",
   "execution_count": 26,
   "metadata": {},
   "outputs": [
    {
     "name": "stdout",
     "output_type": "stream",
     "text": [
      "  Ticker  Shares  Share value\n",
      "0    AGG     200      23372.0\n",
      "1    SPY      50      15565.5\n"
     ]
    },
    {
     "data": {
      "text/plain": [
       "38937.5"
      ]
     },
     "execution_count": 26,
     "metadata": {},
     "output_type": "execute_result"
    }
   ],
   "source": [
    "# creating a datafrom for the portfolio\n",
    "share_portfolio = []\n",
    "data_shares={'Ticker' : tickers, 'Shares' : shares, 'Share value' : my_value }\n",
    "share_portfolio = pd.DataFrame(data=data_shares)\n",
    "print(share_portfolio)\n",
    "share_value = share_portfolio['Share value'].sum()\n",
    "share_value"
   ]
  },
  {
   "cell_type": "code",
   "execution_count": 27,
   "metadata": {},
   "outputs": [
    {
     "data": {
      "text/html": [
       "<div>\n",
       "<style scoped>\n",
       "    .dataframe tbody tr th:only-of-type {\n",
       "        vertical-align: middle;\n",
       "    }\n",
       "\n",
       "    .dataframe tbody tr th {\n",
       "        vertical-align: top;\n",
       "    }\n",
       "\n",
       "    .dataframe thead th {\n",
       "        text-align: right;\n",
       "    }\n",
       "</style>\n",
       "<table border=\"1\" class=\"dataframe\">\n",
       "  <thead>\n",
       "    <tr style=\"text-align: right;\">\n",
       "      <th></th>\n",
       "      <th>Type</th>\n",
       "      <th>Amount</th>\n",
       "    </tr>\n",
       "  </thead>\n",
       "  <tbody>\n",
       "    <tr>\n",
       "      <th>0</th>\n",
       "      <td>crypto</td>\n",
       "      <td>70049.071355</td>\n",
       "    </tr>\n",
       "    <tr>\n",
       "      <th>1</th>\n",
       "      <td>shares</td>\n",
       "      <td>38937.500000</td>\n",
       "    </tr>\n",
       "  </tbody>\n",
       "</table>\n",
       "</div>"
      ],
      "text/plain": [
       "     Type        Amount\n",
       "0  crypto  70049.071355\n",
       "1  shares  38937.500000"
      ]
     },
     "execution_count": 27,
     "metadata": {},
     "output_type": "execute_result"
    }
   ],
   "source": []
  },
  {
   "cell_type": "markdown",
   "metadata": {},
   "source": [
    "### Savings Health Analysis"
   ]
  },
  {
   "cell_type": "code",
   "execution_count": 33,
   "metadata": {},
   "outputs": [
    {
     "data": {
      "text/html": [
       "<div>\n",
       "<style scoped>\n",
       "    .dataframe tbody tr th:only-of-type {\n",
       "        vertical-align: middle;\n",
       "    }\n",
       "\n",
       "    .dataframe tbody tr th {\n",
       "        vertical-align: top;\n",
       "    }\n",
       "\n",
       "    .dataframe thead th {\n",
       "        text-align: right;\n",
       "    }\n",
       "</style>\n",
       "<table border=\"1\" class=\"dataframe\">\n",
       "  <thead>\n",
       "    <tr style=\"text-align: right;\">\n",
       "      <th></th>\n",
       "      <th>Type</th>\n",
       "      <th>Amount</th>\n",
       "    </tr>\n",
       "  </thead>\n",
       "  <tbody>\n",
       "    <tr>\n",
       "      <th>0</th>\n",
       "      <td>crypto</td>\n",
       "      <td>70049.071355</td>\n",
       "    </tr>\n",
       "    <tr>\n",
       "      <th>1</th>\n",
       "      <td>shares</td>\n",
       "      <td>38937.500000</td>\n",
       "    </tr>\n",
       "  </tbody>\n",
       "</table>\n",
       "</div>"
      ],
      "text/plain": [
       "     Type        Amount\n",
       "0  crypto  70049.071355\n",
       "1  shares  38937.500000"
      ]
     },
     "metadata": {},
     "output_type": "display_data"
    }
   ],
   "source": [
    "# Set monthly household income\n",
    "monthly_income = 12000\n",
    "\n",
    "# Consolidate financial assets data\n",
    "assets_df = [] \n",
    "\n",
    "# Create savings DataFrame\n",
    "df_savings = []\n",
    "save_type = (\"crypto\",\"shares\")\n",
    "save_amt = (crypto_value, share_value)\n",
    "data_savings = {'Type' : save_type , 'Amount' : save_amt}\n",
    "df_savings = pd.DataFrame(data=data_savings)\n",
    "\n",
    "\n",
    "# Display savings DataFrame\n",
    "display(df_savings)"
   ]
  },
  {
   "cell_type": "code",
   "execution_count": 29,
   "metadata": {},
   "outputs": [],
   "source": [
    "# Plot savings pie chart\n",
    "# YOUR CODE HERE!"
   ]
  },
  {
   "cell_type": "code",
   "execution_count": 32,
   "metadata": {},
   "outputs": [],
   "source": [
    "# Set ideal emergency fund\n",
    "emergency_fund = monthly_income * 3\n",
    "\n",
    "# Calculate total amount of savings\n",
    "# YOUR CODE HERE!\n",
    "\n",
    "# Validate saving health\n",
    "# YOUR CODE HERE!"
   ]
  },
  {
   "cell_type": "markdown",
   "metadata": {},
   "source": [
    "## Part 2 - Retirement Planning\n",
    "\n",
    "### Monte Carlo Simulation"
   ]
  },
  {
   "cell_type": "code",
   "execution_count": null,
   "metadata": {},
   "outputs": [],
   "source": [
    "# Set start and end dates of five years back from today.\n",
    "# Sample results may vary from the solution based on the time frame chosen\n",
    "start_date = pd.Timestamp('2016-05-01', tz='America/New_York').isoformat()\n",
    "end_date = pd.Timestamp('2021-05-01', tz='America/New_York').isoformat()"
   ]
  },
  {
   "cell_type": "code",
   "execution_count": null,
   "metadata": {},
   "outputs": [],
   "source": [
    "# Get 5 years' worth of historical data for SPY and AGG\n",
    "# (use a limit=1000 parameter to call the most recent 1000 days of data)\n",
    "# YOUR CODE HERE!\n",
    "\n",
    "# Display sample data\n",
    "df_stock_data.head()"
   ]
  },
  {
   "cell_type": "code",
   "execution_count": null,
   "metadata": {},
   "outputs": [],
   "source": [
    "# Configuring a Monte Carlo simulation to forecast 30 years cumulative returns\n",
    "# YOUR CODE HERE!"
   ]
  },
  {
   "cell_type": "code",
   "execution_count": null,
   "metadata": {},
   "outputs": [],
   "source": [
    "# Printing the simulation input data\n",
    "# YOUR CODE HERE!"
   ]
  },
  {
   "cell_type": "code",
   "execution_count": null,
   "metadata": {},
   "outputs": [],
   "source": [
    "# Running a Monte Carlo simulation to forecast 30 years cumulative returns\n",
    "# YOUR CODE HERE!"
   ]
  },
  {
   "cell_type": "code",
   "execution_count": null,
   "metadata": {},
   "outputs": [],
   "source": [
    "# Plot simulation outcomes\n",
    "# YOUR CODE HERE!"
   ]
  },
  {
   "cell_type": "code",
   "execution_count": null,
   "metadata": {},
   "outputs": [],
   "source": [
    "# Plot probability distribution and confidence intervals\n",
    "# YOUR CODE HERE!"
   ]
  },
  {
   "cell_type": "markdown",
   "metadata": {},
   "source": [
    "### Retirement Analysis"
   ]
  },
  {
   "cell_type": "code",
   "execution_count": null,
   "metadata": {},
   "outputs": [],
   "source": [
    "# Fetch summary statistics from the Monte Carlo simulation results\n",
    "# YOUR CODE HERE!\n",
    "\n",
    "# Print summary statistics\n",
    "# YOUR CODE HERE!"
   ]
  },
  {
   "cell_type": "markdown",
   "metadata": {},
   "source": [
    "### Calculate the expected portfolio return at the `95%` lower and upper confidence intervals based on a `$20,000` initial investment."
   ]
  },
  {
   "cell_type": "code",
   "execution_count": null,
   "metadata": {},
   "outputs": [],
   "source": [
    "# Set initial investment\n",
    "initial_investment = 20000\n",
    "\n",
    "# Use the lower and upper `95%` confidence intervals to calculate the range of the possible outcomes of our $20,000\n",
    "# YOUR CODE HERE!\n",
    "\n",
    "# Print results\n",
    "print(f\"There is a 95% chance that an initial investment of ${initial_investment} in the portfolio\"\n",
    "      f\" over the next 30 years will end within in the range of\"\n",
    "      f\" ${ci_lower} and ${ci_upper}\")"
   ]
  },
  {
   "cell_type": "markdown",
   "metadata": {},
   "source": [
    "### Calculate the expected portfolio return at the `95%` lower and upper confidence intervals based on a `50%` increase in the initial investment."
   ]
  },
  {
   "cell_type": "code",
   "execution_count": null,
   "metadata": {},
   "outputs": [],
   "source": [
    "# Set initial investment\n",
    "initial_investment = 20000 * 1.5\n",
    "\n",
    "# Use the lower and upper `95%` confidence intervals to calculate the range of the possible outcomes of our $30,000\n",
    "# YOUR CODE HERE!\n",
    "\n",
    "# Print results\n",
    "print(f\"There is a 95% chance that an initial investment of ${initial_investment} in the portfolio\"\n",
    "      f\" over the next 30 years will end within in the range of\"\n",
    "      f\" ${ci_lower} and ${ci_upper}\")"
   ]
  },
  {
   "cell_type": "markdown",
   "metadata": {},
   "source": [
    "## Optional Challenge - Early Retirement\n",
    "\n",
    "\n",
    "### Five Years Retirement Option"
   ]
  },
  {
   "cell_type": "code",
   "execution_count": null,
   "metadata": {},
   "outputs": [],
   "source": [
    "# Configuring a Monte Carlo simulation to forecast 5 years cumulative returns\n",
    "# YOUR CODE HERE!"
   ]
  },
  {
   "cell_type": "code",
   "execution_count": null,
   "metadata": {},
   "outputs": [],
   "source": [
    "# Running a Monte Carlo simulation to forecast 5 years cumulative returns\n",
    "# YOUR CODE HERE!"
   ]
  },
  {
   "cell_type": "code",
   "execution_count": null,
   "metadata": {},
   "outputs": [],
   "source": [
    "# Plot simulation outcomes\n",
    "# YOUR CODE HERE!"
   ]
  },
  {
   "cell_type": "code",
   "execution_count": null,
   "metadata": {},
   "outputs": [],
   "source": [
    "# Plot probability distribution and confidence intervals\n",
    "# YOUR CODE HERE!"
   ]
  },
  {
   "cell_type": "code",
   "execution_count": null,
   "metadata": {},
   "outputs": [],
   "source": [
    "# Fetch summary statistics from the Monte Carlo simulation results\n",
    "# YOUR CODE HERE!\n",
    "\n",
    "# Print summary statistics\n",
    "# YOUR CODE HERE!"
   ]
  },
  {
   "cell_type": "code",
   "execution_count": null,
   "metadata": {},
   "outputs": [],
   "source": [
    "# Set initial investment\n",
    "# YOUR CODE HERE!\n",
    "\n",
    "# Use the lower and upper `95%` confidence intervals to calculate the range of the possible outcomes of our $60,000\n",
    "# YOUR CODE HERE!\n",
    "\n",
    "# Print results\n",
    "print(f\"There is a 95% chance that an initial investment of ${initial_investment} in the portfolio\"\n",
    "      f\" over the next 5 years will end within in the range of\"\n",
    "      f\" ${ci_lower_five} and ${ci_upper_five}\")"
   ]
  },
  {
   "cell_type": "markdown",
   "metadata": {},
   "source": [
    "### Ten Years Retirement Option"
   ]
  },
  {
   "cell_type": "code",
   "execution_count": null,
   "metadata": {},
   "outputs": [],
   "source": [
    "# Configuring a Monte Carlo simulation to forecast 10 years cumulative returns\n",
    "# YOUR CODE HERE!"
   ]
  },
  {
   "cell_type": "code",
   "execution_count": null,
   "metadata": {},
   "outputs": [],
   "source": [
    "# Running a Monte Carlo simulation to forecast 10 years cumulative returns\n",
    "# YOUR CODE HERE!"
   ]
  },
  {
   "cell_type": "code",
   "execution_count": null,
   "metadata": {},
   "outputs": [],
   "source": [
    "# Plot simulation outcomes\n",
    "# YOUR CODE HERE!"
   ]
  },
  {
   "cell_type": "code",
   "execution_count": null,
   "metadata": {},
   "outputs": [],
   "source": [
    "# Plot probability distribution and confidence intervals\n",
    "# YOUR CODE HERE!"
   ]
  },
  {
   "cell_type": "code",
   "execution_count": null,
   "metadata": {},
   "outputs": [],
   "source": [
    "# Fetch summary statistics from the Monte Carlo simulation results\n",
    "# YOUR CODE HERE!\n",
    "\n",
    "# Print summary statistics\n",
    "# YOUR CODE HERE!"
   ]
  },
  {
   "cell_type": "code",
   "execution_count": null,
   "metadata": {},
   "outputs": [],
   "source": [
    "# Set initial investment\n",
    "# YOUR CODE HERE!\n",
    "\n",
    "# Use the lower and upper `95%` confidence intervals to calculate the range of the possible outcomes of our $60,000\n",
    "# YOUR CODE HERE!\n",
    "\n",
    "# Print results\n",
    "print(f\"There is a 95% chance that an initial investment of ${initial_investment} in the portfolio\"\n",
    "      f\" over the next 10 years will end within in the range of\"\n",
    "      f\" ${ci_lower_ten} and ${ci_upper_ten}\")"
   ]
  },
  {
   "cell_type": "code",
   "execution_count": null,
   "metadata": {},
   "outputs": [],
   "source": []
  }
 ],
 "metadata": {
  "kernelspec": {
   "display_name": "Python 3",
   "language": "python",
   "name": "python3"
  },
  "language_info": {
   "codemirror_mode": {
    "name": "ipython",
    "version": 3
   },
   "file_extension": ".py",
   "mimetype": "text/x-python",
   "name": "python",
   "nbconvert_exporter": "python",
   "pygments_lexer": "ipython3",
   "version": "3.8.5"
  },
  "nteract": {
   "version": "0.28.0"
  }
 },
 "nbformat": 4,
 "nbformat_minor": 4
}
